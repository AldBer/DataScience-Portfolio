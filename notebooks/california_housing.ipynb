{
 "cells": [
  {
   "cell_type": "code",
   "execution_count": 8,
   "id": "1302b038-2800-4fef-bfc3-db742c948867",
   "metadata": {},
   "outputs": [],
   "source": [
    "import os\n",
    "import pandas as pd\n",
    "import plotly.express as px\n",
    "from sklearn.datasets import fetch_california_housing\n",
    "data = fetch_california_housing()\n",
    "df = pd.DataFrame(data.data, columns=data.feature_names)\n",
    "df['Preco'] = data.target * 100000\n",
    "fig = px.scatter_3d(\n",
    "    df.sample(1000),  # <-- Amostra de 1000 pontos (em vez de todos)\n",
    "    x='MedInc',\n",
    "    y='HouseAge',\n",
    "    z='Preco',\n",
    "    color='AveRooms',\n",
    "    hover_data=['AveBedrms']  # Mantém só dados essenciais\n",
    ")\n",
    "fig.write_html(\n",
    "    \"../assets/3d_imoveis.html\",\n",
    "    include_plotlyjs='cdn',\n",
    "    full_html=False,\n",
    "    config={'displayModeBar': False},  # Remove botões desnecessários\n",
    "    default_width='100%',\n",
    "    default_height='90vh'\n",
    ")"
   ]
  },
  {
   "cell_type": "code",
   "execution_count": null,
   "id": "8142b379-130a-4be8-bc14-229c759d49e2",
   "metadata": {},
   "outputs": [],
   "source": []
  }
 ],
 "metadata": {
  "kernelspec": {
   "display_name": "Python 3 (ipykernel)",
   "language": "python",
   "name": "python3"
  },
  "language_info": {
   "codemirror_mode": {
    "name": "ipython",
    "version": 3
   },
   "file_extension": ".py",
   "mimetype": "text/x-python",
   "name": "python",
   "nbconvert_exporter": "python",
   "pygments_lexer": "ipython3",
   "version": "3.10.16"
  }
 },
 "nbformat": 4,
 "nbformat_minor": 5
}
