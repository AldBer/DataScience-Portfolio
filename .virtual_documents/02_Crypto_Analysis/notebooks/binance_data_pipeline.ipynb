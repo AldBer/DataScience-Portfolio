{
 "cells": [
  {
   "cell_type": "markdown",
   "metadata": {},
   "source": [
    "# 📈 Pipeline de Dados de Criptomoedas - Binance API\n",
    "**Autor:** Aldo Bernardi  \n",
    "**Última atualização:** {data_atual}\n",
    "\n",
    "---\n",
    "## Objetivo\n",
    "Extrair dados históricos de criptomoedas diretamente da Binance API para análise técnica e construção de dashboards."
   ]
  },
  {
   "cell_type": "code",
   "execution_count": null,
   "metadata": {},
   "outputs": [],
   "source": [
    "# Configuração inicial\n",
    "!pip install ccxt pandas plotly kaleido --quiet\n",
    "import ccxt\n",
    "import pandas as pd\n",
    "import plotly.graph_objects as go\n",
    "from datetime import datetime, timedelta\n",
    "import os\n",
    "\n",
    "# Parâmetros ajustáveis\n",
    "SYMBOLS = ['BTC/USDT', 'ETH/USDT', 'BNB/USDT']\n",
    "TIMEFRAME = '1d'\n",
    "DAYS_BACK = 180\n",
    "CACHE_DIR = './data'\n",
    "\n",
    "# Criar diretório de cache se não existir\n",
    "os.makedirs(CACHE_DIR, exist_ok=True)"
   ]
  },
  {
   "cell_type": "markdown",
   "metadata": {},
   "source": [
    "## 🔄 Extração de Dados com Tratamento de Erros"
   ]
  },
  {
   "cell_type": "code",
   "execution_count": null,
   "metadata": {},
   "outputs": [],
   "source": [
    "def get_binance_data(symbol, days=DAYS_BACK, retries=3):\n",
    "    \"\"\"Extrai dados OHLCV com sistema de retry e cache\"\"\"\n",
    "    cache_file = f\"{CACHE_DIR}/{symbol.replace('/', '')}_{TIMEFRAME}.csv\"\n",
    "    \n",
    "    # Verificar cache\n",
    "    if os.path.exists(cache_file):\n",
    "        df = pd.read_csv(cache_file, parse_dates=['timestamp'], index_col='timestamp')\n",
    "        return df\n",
    "    \n",
    "    binance = ccxt.binance({'enableRateLimit': True})\n",
    "    \n",
    "    for attempt in range(retries):\n",
    "        try:\n",
    "            since = binance.parse8601((datetime.now() - timedelta(days=days)).strftime('%Y-%m-%d 00:00:00'))\n",
    "            ohlcv = binance.fetch_ohlcv(symbol, TIMEFRAME, since=since)\n",
    "            df = pd.DataFrame(ohlcv, columns=['timestamp', 'open', 'high', 'low', 'close', 'volume'])\n",
    "            df['timestamp'] = pd.to_datetime(df['timestamp'], unit='ms')\n",
    "            df.set_index('timestamp', inplace=True)\n",
    "            \n",
    "            # Salvar em cache\n",
    "            df.to_csv(cache_file)\n",
    "            return df\n",
    "        except Exception as e:\n",
    "            print(f\"Tentativa {attempt + 1} falhou para {symbol}: {str(e)}\")\n",
    "            if attempt == retries - 1:\n",
    "                raise\n",
    "            time.sleep(2)"
   ]
  },
  {
   "cell_type": "markdown",
   "metadata": {},
   "source": [
    "## 📊 Visualização Interativa"
   ]
  },
  {
   "cell_type": "code",
   "execution_count": null,
   "metadata": {},
   "outputs": [],
   "source": [
    "def create_candlestick_chart(df, symbol):\n",
    "    \"\"\"Gera gráfico de candlestick com Plotly\"\"\"\n",
    "    fig = go.Figure(data=[go.Candlestick(\n",
    "        x=df.index,\n",
    "        open=df['open'],\n",
    "        high=df['high'],\n",
    "        low=df['low'],\n",
    "        close=df['close'],\n",
    "        name=symbol\n",
    "    )])\n",
    "    \n",
    "    fig.update_layout(\n",
    "        title=f\"Análise de {symbol} - Últimos {DAYS_BACK} dias\",\n",
    "        xaxis_title='Data',\n",
    "        yaxis_title='Preço (USDT)',\n",
    "        template='plotly_dark',\n",
    "        hovermode=\"x unified\"\n",
    "    )\n",
    "    \n",
    "    return fig\n",
    "\n",
    "# Exemplo de uso\n",
    "btc_data = get_binance_data('BTC/USDT')\n",
    "fig = create_candlestick_chart(btc_data, 'BTC/USDT')\n",
    "fig.show()"
   ]
  },
  {
   "cell_type": "markdown",
   "metadata": {},
   "source": [
    "## 🚀 Exportação para Dashboard HTML"
   ]
  },
  {
   "cell_type": "code",
   "execution_count": null,
   "metadata": {},
   "outputs": [],
   "source": [
    "def export_dashboard():\n",
    "    \"\"\"Gera dashboard HTML com múltiplos ativos\"\"\"\n",
    "    figs = []\n",
    "    for symbol in SYMBOLS:\n",
    "        df = get_binance_data(symbol)\n",
    "        figs.append(create_candlestick_chart(df, symbol))\n",
    "    \n",
    "    # Layout do dashboard\n",
    "    dashboard = go.Figure()\n",
    "    for fig in figs:\n",
    "        for trace in fig.data:\n",
    "            dashboard.add_trace(trace)\n",
    "    \n",
    "    dashboard.update_layout(\n",
    "        title='Dashboard Criptomoedas - Binance Data',\n",
    "        grid={'rows': len(SYMBOLS), 'columns': 1, 'pattern': \"independent\"},\n",
    "        height=300 * len(SYMBOLS)\n",
    "    )\n",
    "    \n",
    "    # Exportar\n",
    "    dashboard.write_html(\"./assets/crypto_dashboard.html\",\n",
    "                       full_html=True,\n",
    "                       include_plotlyjs='cdn')\n",
    "\n",
    "# Executar exportação\n",
    "export_dashboard()"
   ]
  },
  {
   "cell_type": "markdown",
   "metadata": {},
   "source": [
    "## 📌 Próximos Passos\n",
    "- Adicionar indicadores técnicos (RSI, MACD)\n",
    "- Implementar alertas de preço\n",
    "- Conectar com banco de dados para histórico completo"
   ]
  }
 ],
 "metadata": {
  "kernelspec": {
   "display_name": "Python 3",
   "language": "python",
   "name": "python3"
  },
  "language_info": {
   "name": "python",
   "version": "3.8.5"
  }
 }
}



